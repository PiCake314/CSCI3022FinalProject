{
 "cells": [
  {
   "cell_type": "markdown",
   "id": "0a7ce879-d604-4d9c-9c38-c0be26e9e407",
   "metadata": {},
   "source": [
    "# CSCI 3022 Final Project: *Spotify Songs*"
   ]
  },
  {
   "cell_type": "code",
   "execution_count": 1,
   "id": "46338d79-c951-43dd-b85f-9b625749dcf5",
   "metadata": {},
   "outputs": [],
   "source": [
    "import pandas as pd\n",
    "import numpy as np\n",
    "import matplotlib.pylab as plt\n",
    "import scipy.stats as stats\n",
    "%matplotlib inline"
   ]
  },
  {
   "cell_type": "markdown",
   "id": "f4b64a96-aa66-4a07-a4bc-81e88636cea8",
   "metadata": {},
   "source": [
    "## Data Cleaning"
   ]
  },
  {
   "cell_type": "code",
   "execution_count": 2,
   "id": "937a7e57-e84d-4379-9b1d-43ff52fffd5c",
   "metadata": {},
   "outputs": [],
   "source": [
    "#Importing csv file into pandas data frame\n",
    "#Making sure country code NA not seen as NaN, and makingh sure missing genres are NaN\n",
    "dfSong = pd.read_csv(\"all_spotify_data.csv\",keep_default_na=False,na_values=['None','Not Found','[]'])"
   ]
  },
  {
   "cell_type": "code",
   "execution_count": 3,
   "id": "1534acd7-7170-470f-b128-233ef192a715",
   "metadata": {},
   "outputs": [
    {
     "name": "stdout",
     "output_type": "stream",
     "text": [
      "<class 'pandas.core.frame.DataFrame'>\n",
      "RangeIndex: 184000 entries, 0 to 183999\n",
      "Data columns (total 8 columns):\n",
      " #   Column       Non-Null Count   Dtype \n",
      "---  ------       --------------   ----- \n",
      " 0   Unnamed: 0   184000 non-null  int64 \n",
      " 1   Artist_Name  184000 non-null  object\n",
      " 2   Track_Name   184000 non-null  object\n",
      " 3   Popularity   184000 non-null  int64 \n",
      " 4   Track_ID     184000 non-null  object\n",
      " 5   Genres       179206 non-null  object\n",
      " 6   Country      184000 non-null  object\n",
      " 7   Year         184000 non-null  int64 \n",
      "dtypes: int64(3), object(5)\n",
      "memory usage: 11.2+ MB\n",
      "None\n"
     ]
    },
    {
     "data": {
      "text/html": [
       "<div>\n",
       "<style scoped>\n",
       "    .dataframe tbody tr th:only-of-type {\n",
       "        vertical-align: middle;\n",
       "    }\n",
       "\n",
       "    .dataframe tbody tr th {\n",
       "        vertical-align: top;\n",
       "    }\n",
       "\n",
       "    .dataframe thead th {\n",
       "        text-align: right;\n",
       "    }\n",
       "</style>\n",
       "<table border=\"1\" class=\"dataframe\">\n",
       "  <thead>\n",
       "    <tr style=\"text-align: right;\">\n",
       "      <th></th>\n",
       "      <th>Unnamed: 0</th>\n",
       "      <th>Artist_Name</th>\n",
       "      <th>Track_Name</th>\n",
       "      <th>Popularity</th>\n",
       "      <th>Track_ID</th>\n",
       "      <th>Genres</th>\n",
       "      <th>Country</th>\n",
       "      <th>Year</th>\n",
       "    </tr>\n",
       "  </thead>\n",
       "  <tbody>\n",
       "    <tr>\n",
       "      <th>0</th>\n",
       "      <td>0</td>\n",
       "      <td>Billie Eilish</td>\n",
       "      <td>lovely (with Khalid)</td>\n",
       "      <td>90</td>\n",
       "      <td>0u2P5u6lvoDfwTYjAADbn4</td>\n",
       "      <td>['art pop', 'electropop', 'pop']</td>\n",
       "      <td>AD</td>\n",
       "      <td>2018</td>\n",
       "    </tr>\n",
       "    <tr>\n",
       "      <th>1</th>\n",
       "      <td>1</td>\n",
       "      <td>Post Malone</td>\n",
       "      <td>Sunflower - Spider-Man: Into the Spider-Verse</td>\n",
       "      <td>90</td>\n",
       "      <td>3KkXRkHbMCARz0aVfEt68P</td>\n",
       "      <td>['dfw rap', 'melodic rap', 'pop', 'rap']</td>\n",
       "      <td>AD</td>\n",
       "      <td>2018</td>\n",
       "    </tr>\n",
       "    <tr>\n",
       "      <th>2</th>\n",
       "      <td>2</td>\n",
       "      <td>Alec Benjamin</td>\n",
       "      <td>Let Me Down Slowly</td>\n",
       "      <td>89</td>\n",
       "      <td>2qxmye6gAegTMjLKEBoR3d</td>\n",
       "      <td>['alt z', 'pop', 'pov: indie']</td>\n",
       "      <td>AD</td>\n",
       "      <td>2018</td>\n",
       "    </tr>\n",
       "    <tr>\n",
       "      <th>3</th>\n",
       "      <td>3</td>\n",
       "      <td>Calvin Harris</td>\n",
       "      <td>One Kiss (with Dua Lipa)</td>\n",
       "      <td>88</td>\n",
       "      <td>7ef4DlsgrMEH11cDZd32M6</td>\n",
       "      <td>['dance pop', 'edm', 'electro house', 'house',...</td>\n",
       "      <td>AD</td>\n",
       "      <td>2018</td>\n",
       "    </tr>\n",
       "    <tr>\n",
       "      <th>4</th>\n",
       "      <td>4</td>\n",
       "      <td>The Weeknd</td>\n",
       "      <td>I Was Never There</td>\n",
       "      <td>88</td>\n",
       "      <td>1cKHdTo9u0ZymJdPGSh6nq</td>\n",
       "      <td>['canadian contemporary r&amp;b', 'canadian pop', ...</td>\n",
       "      <td>AD</td>\n",
       "      <td>2018</td>\n",
       "    </tr>\n",
       "  </tbody>\n",
       "</table>\n",
       "</div>"
      ],
      "text/plain": [
       "   Unnamed: 0    Artist_Name                                     Track_Name  \\\n",
       "0           0  Billie Eilish                           lovely (with Khalid)   \n",
       "1           1    Post Malone  Sunflower - Spider-Man: Into the Spider-Verse   \n",
       "2           2  Alec Benjamin                             Let Me Down Slowly   \n",
       "3           3  Calvin Harris                       One Kiss (with Dua Lipa)   \n",
       "4           4     The Weeknd                              I Was Never There   \n",
       "\n",
       "   Popularity                Track_ID  \\\n",
       "0          90  0u2P5u6lvoDfwTYjAADbn4   \n",
       "1          90  3KkXRkHbMCARz0aVfEt68P   \n",
       "2          89  2qxmye6gAegTMjLKEBoR3d   \n",
       "3          88  7ef4DlsgrMEH11cDZd32M6   \n",
       "4          88  1cKHdTo9u0ZymJdPGSh6nq   \n",
       "\n",
       "                                              Genres Country  Year  \n",
       "0                   ['art pop', 'electropop', 'pop']      AD  2018  \n",
       "1           ['dfw rap', 'melodic rap', 'pop', 'rap']      AD  2018  \n",
       "2                     ['alt z', 'pop', 'pov: indie']      AD  2018  \n",
       "3  ['dance pop', 'edm', 'electro house', 'house',...      AD  2018  \n",
       "4  ['canadian contemporary r&b', 'canadian pop', ...      AD  2018  "
      ]
     },
     "execution_count": 3,
     "metadata": {},
     "output_type": "execute_result"
    }
   ],
   "source": [
    "#Looking at the data\n",
    "print(dfSong.info())\n",
    "dfSong.head()"
   ]
  },
  {
   "cell_type": "code",
   "execution_count": 4,
   "id": "f5b64c53-a65d-4e4e-ad08-fa49be8f5610",
   "metadata": {},
   "outputs": [
    {
     "name": "stdout",
     "output_type": "stream",
     "text": [
      "<class 'pandas.core.frame.DataFrame'>\n",
      "RangeIndex: 184000 entries, 0 to 183999\n",
      "Data columns (total 5 columns):\n",
      " #   Column       Non-Null Count   Dtype \n",
      "---  ------       --------------   ----- \n",
      " 0   Artist_Name  184000 non-null  object\n",
      " 1   Track_Name   184000 non-null  object\n",
      " 2   Popularity   184000 non-null  int64 \n",
      " 3   Genres       179206 non-null  object\n",
      " 4   Country      184000 non-null  object\n",
      "dtypes: int64(1), object(4)\n",
      "memory usage: 7.0+ MB\n",
      "None\n"
     ]
    }
   ],
   "source": [
    "#Dropping unnecesary columns\n",
    "dfSong.drop([\"Unnamed: 0\",\"Track_ID\",\"Year\"],axis='columns',inplace=True)\n",
    "print(dfSong.info())\n",
    "\n",
    "#Removing all songs with NaN's without\n",
    "dfSong_clean = dfSong.dropna(ignore_index=True)"
   ]
  },
  {
   "cell_type": "markdown",
   "id": "08f4a180-106b-4fcb-93a0-189ff2d374ba",
   "metadata": {},
   "source": [
    "## Popularity\n",
    "#### Finding mean, median, and mode popularity score of songs:"
   ]
  },
  {
   "cell_type": "code",
   "execution_count": 5,
   "id": "3e22567b-4ae3-419e-ade6-c9c0078987fb",
   "metadata": {},
   "outputs": [
    {
     "name": "stdout",
     "output_type": "stream",
     "text": [
      "The mean popularity rating of all the songs is 70.40.\n",
      "The median popularity rating of all the songs is 71.0.\n",
      "The mode popularity rating of all the songs is 69 "
     ]
    }
   ],
   "source": [
    "#Mean\n",
    "avgPop = dfSong[\"Popularity\"].mean()\n",
    "print(\"The mean popularity rating of all the songs is {:.2f}.\".format(avgPop))\n",
    "\n",
    "#Median\n",
    "medPop = dfSong[\"Popularity\"].median()\n",
    "print(\"The median popularity rating of all the songs is {:.1f}.\".format(medPop))\n",
    "\n",
    "#Mode\n",
    "modePop = dfSong[\"Popularity\"].mode()\n",
    "print(\"The mode popularity rating of all the songs is \",end=\"\")\n",
    "[print(i,end=\" \") for i in modePop]; #Print all modes without brackets around array\n"
   ]
  },
  {
   "cell_type": "markdown",
   "id": "14d4edcd-5e1d-4c03-938a-3d32fc87c133",
   "metadata": {},
   "source": [
    "#### Making boxplot of popularity scores:"
   ]
  },
  {
   "cell_type": "code",
   "execution_count": 6,
   "id": "29877f50-9220-4780-abf5-4b2b5e8bffe4",
   "metadata": {},
   "outputs": [
    {
     "data": {
      "image/png": "[encoded data removed]",
      "text/plain": [
       "<Figure size 1000x1000 with 1 Axes>"
      ]
     },
     "metadata": {},
     "output_type": "display_data"
    }
   ],
   "source": [
    "#Initialize figure\n",
    "fig, ax = plt.subplots(figsize=(10,10))\n",
    "\n",
    "# Plot boxplot; returns dictionary of style parameters\n",
    "bpPop = dfSong.boxplot(column=\"Popularity\",ax=ax,return_type='dict',labels=None);\n",
    "\n",
    "# ---------------------------------------\n",
    "# Set properties of various parts of plot \n",
    "# ---------------------------------------\n",
    "\n",
    "# Change properties of boxes \n",
    "for box in bpPop['boxes']:\n",
    "    box.set(color='steelblue', linewidth=2)\n",
    "    \n",
    "# Change properties of whiskers \n",
    "for whisker in bpPop['whiskers']:\n",
    "    whisker.set(color='gray', linewidth=2)\n",
    "    \n",
    "# Change properties of caps \n",
    "for cap in bpPop['caps']:\n",
    "    cap.set(color='gray', linewidth=2)\n",
    "    \n",
    "# Change properties of median \n",
    "for cap in bpPop['medians']:\n",
    "    cap.set(color='green', linewidth=2, alpha=0.5)\n",
    "    \n",
    "# Change properties of fliers (outliers) \n",
    "for flier in bpPop['fliers']:\n",
    "    flier.set(markerfacecolor='steelblue', marker='s', markersize=5, alpha=0.05, markeredgewidth=0.5)\n",
    "\n",
    "# Make grid-lines lighter\n",
    "ax.grid(alpha=0.5)\n",
    "ax.set_title(\"Popularity Rating of Songs from all Countries\", fontsize=20)\n",
    "plt.xticks([1],['Popularity'])\n",
    "ax.set_ylabel('Score (Out of 100)',fontsize=14);"
   ]
  },
  {
   "cell_type": "markdown",
   "id": "b36436c4-6b9f-4f6f-ba2c-722e9e5f6cd2",
   "metadata": {},
   "source": [
    "#### Making histogram of popularity scores:"
   ]
  },
  {
   "cell_type": "code",
   "execution_count": null,
   "id": "d4417802-77d8-4db5-ab61-8b6af8ef9a91",
   "metadata": {},
   "outputs": [],
   "source": [
    "#Initialize figure\n",
    "fig, ax = plt.subplots(figsize=(15,10))\n",
    "\n",
    "#Plot histogram\n",
    "myBin = range(0,101,5)\n",
    "dfSong[\"Popularity\"].hist(ax=ax,bins=myBin,density=True,edgecolor='w',facecolor=(0,0,0))\n",
    "\n",
    "#Formatting and labeling\n",
    "ax.grid(alpha=0.3)\n",
    "ax.set_axisbelow(True)\n",
    "ax.set_title(\"Popularity Rating of Songs from all Countries\", fontsize=20)\n",
    "ax.set_xlabel(\"Popularity Rating (Out of 100)\", fontsize=14)\n",
    "ax.set_ylabel(\"Density\", fontsize=14);"
   ]
  },
  {
   "cell_type": "markdown",
   "id": "4b5b27ba-408a-4efc-b5c0-2058732b007a",
   "metadata": {},
   "source": [
    "### Plotting distribution of mean popuarity scores from each country"
   ]
  },
  {
   "cell_type": "code",
   "execution_count": null,
   "id": "fa4b705f-04b3-4101-8cef-db850e2fdae0",
   "metadata": {},
   "outputs": [],
   "source": [
    "#Getting array of countries\n",
    "countries = dfSong[\"Country\"].unique()\n",
    "n = countries.size #Number of countries\n",
    "\n",
    "#Initializing array to hold mean popularity score from all countries\n",
    "countryMeanPop = np.zeros(n)\n",
    "\n",
    "#Calculating mean popularity score from all countries\n",
    "for i in range(n):\n",
    "    countryMeanPop[i] = dfSong.loc[dfSong['Country']==countries[i],'Popularity'].mean()\n",
    "\n",
    "print(f\"The mean of the average popularity score from each country is {countryMeanPop.mean() :.2f}\")"
   ]
  },
  {
   "cell_type": "code",
   "execution_count": null,
   "id": "499b278b-b850-4b2c-af60-d1d9e8778fd9",
   "metadata": {},
   "outputs": [],
   "source": [
    "#Initializing figure\n",
    "fig, ax = plt.subplots(figsize=(15,10))\n",
    "\n",
    "#Plotting distribution\n",
    "pd.Series(countryMeanPop).hist(ax=ax,bins=8,density=True,edgecolor='w')\n",
    "\n",
    "#Formatting and labeling\n",
    "ax.grid(alpha=0.3)\n",
    "ax.set_axisbelow(True)\n",
    "ax.set_title(\"Countries' Mean Popularity Scores\", fontsize=20)\n",
    "ax.set_xlabel(\"Mean Popularity Rating (Out of 100)\", fontsize=14)\n",
    "ax.set_ylabel(\"Density\", fontsize=14);"
   ]
  },
  {
   "cell_type": "markdown",
   "id": "56212d71-5054-4384-a010-ecb200b2eae6",
   "metadata": {},
   "source": [
    "## Genre"
   ]
  },
  {
   "cell_type": "code",
   "execution_count": null,
   "id": "0fd2c131-263a-445e-81d8-7408629a792c",
   "metadata": {},
   "outputs": [],
   "source": [
    "#Get all generes\n",
    "\n",
    "dfSong_clean.loc[:,\"Genres\"] = dfSong_clean[\"Genres\"].apply(eval)\n",
    "\n",
    "#Checking whether string-to-list conversion worked\n",
    "# for i,l in enumerate(dfSong_clean[\"Genres\"][:10]):\n",
    "#     print(\"list\",i,\"is\",type(l))"
   ]
  },
  {
   "cell_type": "markdown",
   "id": "846787b2-b597-4f0c-a866-a5b61851796c",
   "metadata": {},
   "source": [
    "### Finding top most common genre"
   ]
  },
  {
   "cell_type": "code",
   "execution_count": null,
   "id": "5fc2f566-c402-43ab-abcb-cbf3463fb92a",
   "metadata": {},
   "outputs": [],
   "source": [
    "#Getting list of unique genres and their count\n",
    "genres, n = np.unique(np.hstack(dfSong_clean[\"Genres\"].values),return_counts=True)\n",
    "\n",
    "indBigG = np.argsort(n)[::-1] #indices of most common genre"
   ]
  },
  {
   "cell_type": "code",
   "execution_count": null,
   "id": "f39714f5-0abf-4a77-97c1-cbad329d9845",
   "metadata": {},
   "outputs": [],
   "source": [
    "#Initializing figure\n",
    "fig, ax = plt.subplots(figsize=(15,10))\n",
    "\n",
    "#Top k common genres\n",
    "k = 10\n",
    "topG = np.append(genres[indBigG[:k]],['Other'])\n",
    "topN = np.append(n[indBigG[:k]],[n[indBigG[k:]].sum()])\n",
    "print()\n",
    "\n",
    "#Plotting bar chart of top genre count\n",
    "ax.bar(topG,topN)\n",
    "\n",
    "#Formatting and labeling\n",
    "ax.grid(alpha=0.3)\n",
    "ax.set_axisbelow(True)\n",
    "ax.set_title(\"Top {} Most Common Genres\".format(k), fontsize=20)\n",
    "ax.set_xlabel(\"Genres\", fontsize=14)\n",
    "ax.set_ylabel(\"Count\", fontsize=14);\n",
    "ax.set_xticks(np.arange(k+1),labels=topG)\n",
    "plt.setp(ax.get_xticklabels(), rotation=45, ha=\"right\", rotation_mode=\"anchor\", fontsize=12);\n"
   ]
  },
  {
   "cell_type": "markdown",
   "id": "c853414d-dba7-40b3-bad3-ff4bc242b0d8",
   "metadata": {},
   "source": [
    "### Finding mean, median, and mode of the counts for each genre"
   ]
  },
  {
   "cell_type": "code",
   "execution_count": null,
   "id": "4cc38ca6-b133-4360-bed6-d37de3231813",
   "metadata": {},
   "outputs": [],
   "source": [
    "#Mean\n",
    "print(\"The mean genre count from all the songs is {:.2f}\".format(np.mean(n)))\n",
    "\n",
    "#Median\n",
    "print(\"The median genre count from all the songs is {}\".format(np.median(n)))\n",
    "\n",
    "#Mode\n",
    "print(\"The mode genre count from all the songs is {}\".format(stats.mode(n,axis=None)[0]))\n"
   ]
  },
  {
   "cell_type": "markdown",
   "id": "70e6f922-a933-4e8e-a093-532db104c95a",
   "metadata": {},
   "source": [
    "### Most common genres from each country"
   ]
  },
  {
   "cell_type": "code",
   "execution_count": null,
   "id": "5a98f07a-d093-44b7-a1fa-bfe304c69f6c",
   "metadata": {},
   "outputs": [],
   "source": [
    "%%time\n",
    "#k most common genres from each country\n",
    "countryTopG = []\n",
    "for ctry in countries:\n",
    "    #Getting list of unique genres and their count\n",
    "    g, n = np.unique(np.hstack(dfSong_clean.loc[dfSong_clean[\"Country\"]==ctry,\"Genres\"].values),return_counts=True)\n",
    "    indBigG = np.argsort(n)[::-1] #indices of most common genre\n",
    "    countryTopG.append(g[indBigG[0]])\n"
   ]
  },
  {
   "cell_type": "code",
   "execution_count": null,
   "id": "a4d91d62-3c7a-4206-a2dd-648dca9d37db",
   "metadata": {},
   "outputs": [],
   "source": [
    "#Getting count of each most popular genre from each country\n",
    "g, n = np.unique(np.array(countryTopG),return_counts=True)\n",
    "indBigG = np.argsort(n)[::-1] #indices of most common genre\n",
    "\n",
    "#Initializing figure\n",
    "fig, ax = plt.subplots(figsize=(15,10))\n",
    "\n",
    "#Top k common genres\n",
    "k = 10 \n",
    "ctopG = np.append(g[indBigG[:k]],['Other'])\n",
    "ctopN = np.append(n[indBigG[:k]],[n[indBigG[k:]].sum()])\n",
    "\n",
    "#Plotting bar chart of top genre count\n",
    "ax.bar(ctopG,ctopN)\n",
    "\n",
    "#Formatting and labeling\n",
    "ax.grid(alpha=0.3)\n",
    "ax.set_axisbelow(True)\n",
    "ax.set_title(\"Most Common Genre from Each Country\", fontsize=20)\n",
    "ax.set_xlabel(\"Genres\", fontsize=14)\n",
    "ax.set_ylabel(\"Count\", fontsize=14);\n",
    "ax.set_xticks(np.arange(k+1),labels=ctopG)\n",
    "plt.setp(ax.get_xticklabels(), rotation=45, ha=\"right\", rotation_mode=\"anchor\", fontsize=12);\n"
   ]
  },
  {
   "cell_type": "markdown",
   "id": "9bad1e9e-d69a-4b34-89ce-007c2726083f",
   "metadata": {},
   "source": [
    "### Average rating of each genre"
   ]
  },
  {
   "cell_type": "markdown",
   "id": "f1e0d5fe-8af8-43ad-9082-2ba91e235db7",
   "metadata": {},
   "source": [
    "***Cell below takes really long to compute (around a minute for me). Any way to speed it up?***"
   ]
  },
  {
   "cell_type": "code",
   "execution_count": null,
   "id": "b6a4ff8f-b1f0-4d5b-8906-eb0037fe0836",
   "metadata": {},
   "outputs": [],
   "source": [
    "%%time\n",
    "#Giving songs with multiple genres a row for each genre\n",
    "dfSingleG = dfSong_clean.explode(column=[\"Genres\"],ignore_index=True)\n",
    "\n",
    "# Create a DataFrame to hold genre-wise mean popularity\n",
    "genre_popularity = dfSingleG.groupby('Genres')['Popularity'].mean()\n",
    "\n",
    "# Create a new numpy array with genre-wise mean popularity\n",
    "popGenre = np.array([genre_popularity.get(genre, 0) for genre in genres])\n"
   ]
  },
  {
   "cell_type": "markdown",
   "id": "d1c3bdcb-8b35-453f-990e-2f06659225cd",
   "metadata": {},
   "source": [
    "#### Distribution of Average Genre Ratings"
   ]
  },
  {
   "cell_type": "code",
   "execution_count": null,
   "id": "caddcc1d-dc7e-4905-9958-1c611abeae72",
   "metadata": {},
   "outputs": [],
   "source": [
    "#Initializing figure\n",
    "fig, ax = plt.subplots(figsize=(12,8))\n",
    "\n",
    "#Plotting distribution of average genre popularity scores\n",
    "pd.Series(popGenre).hist(ax=ax,bins=15,facecolor='pink',edgecolor='w',density=True)\n",
    "\n",
    "#Formatting and labeling\n",
    "ax.grid(alpha=0.3)\n",
    "ax.set_axisbelow(True)\n",
    "ax.set_title(\"Mean Popularity Rating of each Genre\", fontsize=20)\n",
    "ax.set_xlabel(\"Mean Popularity Rating\", fontsize=14)\n",
    "ax.set_ylabel(\"Density\", fontsize=14);\n"
   ]
  },
  {
   "cell_type": "markdown",
   "id": "714bd904-b73b-4329-bdff-f0b570bc5103",
   "metadata": {},
   "source": [
    "#### Bar Chart of Genres with highest popularity ratings"
   ]
  },
  {
   "cell_type": "code",
   "execution_count": null,
   "id": "40535a25-b2d5-494c-9311-08152ef80a16",
   "metadata": {},
   "outputs": [],
   "source": [
    "#Getting indices of genres with top avg popularity scores\n",
    "indPopG = np.argsort(popGenre)[::-1]\n",
    "\n",
    "#Getting top k genre avg popularity score and their genre\n",
    "k = 10 \n",
    "PopG = np.append(genres[indPopG[:k]],['Other']) #Genres\n",
    "PopR = np.append(popGenre[indPopG[:k]],[popGenre[indPopG[k:]].mean()]) #Avg Scores\n",
    "\n",
    "#Initializing figure\n",
    "fig, ax = plt.subplots(figsize=(12,8))\n",
    "\n",
    "#Plotting bar chart of top genre count\n",
    "ax.bar(PopG,PopR)\n",
    "\n",
    "#Formatting and labeling\n",
    "ax.grid(alpha=0.3)\n",
    "ax.set_axisbelow(True)\n",
    "ax.set_title(\"Genres with Highest Average Popularity Rating\", fontsize=20)\n",
    "ax.set_xlabel(\"Genres\", fontsize=14)\n",
    "ax.set_ylabel(\"Average Rating\", fontsize=14);\n",
    "ax.set_xticks(np.arange(k+1),labels=PopG)\n",
    "plt.setp(ax.get_xticklabels(), rotation=45, ha=\"right\", rotation_mode=\"anchor\", fontsize=12);\n",
    "\n",
    "#Add numerical labels to bars\n",
    "# def addlabels(x,y,ax):\n",
    "#     for i in range(len(x)):\n",
    "#         ax.text(i, y[i]//2, y[i], ha = 'center', color='w', fontsize=14)\n",
    "\n",
    "# addlabels(PopG,PopR.round(2),ax)"
   ]
  },
  {
   "cell_type": "markdown",
   "id": "b3471429-bd74-4edf-b251-2bdbd8d7d731",
   "metadata": {},
   "source": [
    "#### Genre with Top Popularity Rating from each country"
   ]
  },
  {
   "cell_type": "code",
   "execution_count": null,
   "id": "a22c29ee-5687-485a-bbca-3547a7943b19",
   "metadata": {},
   "outputs": [],
   "source": [
    "%%time\n",
    "\n",
    "# Create a DataFrame to hold genre-wise mean popularity in each country\n",
    "countryGenrePop = dfSingleG.groupby([\"Country\",\"Genres\"])['Popularity'].mean()\n",
    "\n",
    "#Initializing arrays to hold top rated genre and rating from each country\n",
    "popCtryG = np.empty(countries.size,dtype='<U35')\n",
    "popCtryR = np.zeros(countries.size)\n",
    "\n",
    "#Getting the genre with top popularity rating from each country\n",
    "for i,ctry in enumerate(countries):\n",
    "    df = countryGenrePop.get(ctry) #Looking at genre ratings for each country\n",
    "    idx = df.idxmax() #getting top rated genre name\n",
    "    popCtryG[i] = idx\n",
    "    popCtryR[i] = df[idx]\n"
   ]
  },
  {
   "cell_type": "code",
   "execution_count": null,
   "id": "5a914eb4-a2f6-462c-b325-3f22c8754171",
   "metadata": {},
   "outputs": [],
   "source": [
    "#Initializing figure\n",
    "fig, ax = plt.subplots(figsize=(12,8))\n",
    "\n",
    "#Plotting distribution of average genre popularity scores\n",
    "pd.Series(popCtryR).hist(ax=ax,bins=10,facecolor='lightgreen',edgecolor='w',density=True)\n",
    "\n",
    "#Formatting and labeling\n",
    "ax.grid(alpha=0.3)\n",
    "ax.set_axisbelow(True)\n",
    "ax.set_title(\"Each Country's Top Genre Popularity Rating\", fontsize=20)\n",
    "ax.set_xlabel(\"Genre Popularity Rating\", fontsize=14)\n",
    "ax.set_ylabel(\"Density\", fontsize=14);"
   ]
  },
  {
   "cell_type": "code",
   "execution_count": null,
   "id": "7e8397b9-6fd6-412d-ba88-43ba1ca1c8ce",
   "metadata": {},
   "outputs": [],
   "source": [
    "#Averaging reccuring Top Genres with Highest Popularity Rating from Each Country\n",
    "dfCtryG = pd.DataFrame({'Genres':popCtryG,\"Popularity\":popCtryR}).groupby(\"Genres\").mean().sort_values(by='Popularity',ascending=False)\n"
   ]
  },
  {
   "cell_type": "code",
   "execution_count": null,
   "id": "b6aefe1c-225f-4573-9f1c-d889eec4324d",
   "metadata": {},
   "outputs": [],
   "source": [
    "#Initializing figure\n",
    "fig, ax = plt.subplots(figsize=(12,8))\n",
    "\n",
    "#Plotting bar chart of top genre count\n",
    "dfCtryG.plot.bar(ax=ax)\n",
    "\n",
    "#Formatting and labeling\n",
    "ax.grid(alpha=0.3)\n",
    "ax.set_axisbelow(True)\n",
    "ax.set_title(\"Top Genres with Highest Popularity Rating from Each Country\", fontsize=20)\n",
    "ax.set_xlabel(\"Genres\", fontsize=14)\n",
    "ax.set_ylabel(\"Average Rating\", fontsize=14);\n",
    "ax.set_xticks(np.arange(len(dfCtryG.index)),labels=dfCtryG.index)\n",
    "plt.setp(ax.get_xticklabels(), rotation=45, ha=\"right\", rotation_mode=\"anchor\", fontsize=12);\n",
    "ax.get_legend().remove()"
   ]
  },
  {
   "cell_type": "code",
   "execution_count": null,
   "id": "13185683-94ff-4d49-bb96-7c272629352a",
   "metadata": {},
   "outputs": [],
   "source": []
  }
 ],
 "metadata": {
  "kernelspec": {
   "display_name": "Python 3 (ipykernel)",
   "language": "python",
   "name": "python3"
  },
  "language_info": {
   "codemirror_mode": {
    "name": "ipython",
    "version": 3
   },
   "file_extension": ".py",
   "mimetype": "text/x-python",
   "name": "python",
   "nbconvert_exporter": "python",
   "pygments_lexer": "ipython3",
   "version": "3.11.4"
  }
 },
 "nbformat": 4,
 "nbformat_minor": 5
}
